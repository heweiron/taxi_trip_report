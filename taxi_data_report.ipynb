{
 "cells": [
  {
   "cell_type": "markdown",
   "id": "e56ef6e5",
   "metadata": {},
   "source": [
    "# Final Project\n",
    "### Team: Data Miner(Weirong He, Michael Gainey, Tri Pham)\n",
    "### Topic: Taxi Data Analysis"
   ]
  },
  {
   "cell_type": "code",
   "execution_count": 18,
   "id": "33b9260b",
   "metadata": {},
   "outputs": [],
   "source": [
    "from pyspark import SparkContext\n",
    "from pyspark.sql import SparkSession\n",
    "from pyspark.sql import functions as F\n",
    "import numpy as np\n",
    "import pyarrow.parquet as pq\n",
    "import ipywidgets as widgets\n",
    "import pandas as pd\n",
    "import matplotlib.pyplot as plt\n",
    "\n",
    "from sklearn.neural_network import MLPRegressor\n",
    "from sklearn.model_selection import train_test_split\n",
    "from sklearn.metrics import mean_squared_error, r2_score\n",
    "\n",
    "import joblib"
   ]
  },
  {
   "cell_type": "code",
   "execution_count": 2,
   "id": "604bdc0f",
   "metadata": {},
   "outputs": [
    {
     "name": "stderr",
     "output_type": "stream",
     "text": [
      "WARNING: An illegal reflective access operation has occurred\n",
      "WARNING: Illegal reflective access by org.apache.spark.unsafe.Platform (file:/usr/local/spark-3.1.2-bin-hadoop3.2/jars/spark-unsafe_2.12-3.1.2.jar) to constructor java.nio.DirectByteBuffer(long,int)\n",
      "WARNING: Please consider reporting this to the maintainers of org.apache.spark.unsafe.Platform\n",
      "WARNING: Use --illegal-access=warn to enable warnings of further illegal reflective access operations\n",
      "WARNING: All illegal access operations will be denied in a future release\n",
      "21/12/07 05:09:50 WARN NativeCodeLoader: Unable to load native-hadoop library for your platform... using builtin-java classes where applicable\n",
      "Using Spark's default log4j profile: org/apache/spark/log4j-defaults.properties\n",
      "Setting default log level to \"WARN\".\n",
      "To adjust logging level use sc.setLogLevel(newLevel). For SparkR, use setLogLevel(newLevel).\n"
     ]
    }
   ],
   "source": [
    "sc = SparkContext()\n",
    "session = SparkSession(sc)"
   ]
  },
  {
   "cell_type": "markdown",
   "id": "781bd25d",
   "metadata": {},
   "source": [
    "## Data Process\n",
    "Data set could be download at https://www1.nyc.gov/site/tlc/about/tlc-trip-record-data.page\n",
    "In this project, we are focusing on year 2020, so we have 12 month taxi data in 2020. However, this dataset is too large for this project, so we decide to only take data at the first week of each month which will lead to result of 5M records."
   ]
  },
  {
   "cell_type": "code",
   "execution_count": 3,
   "id": "e94f83ba",
   "metadata": {},
   "outputs": [],
   "source": [
    "taxi_record_1 = session.read.csv(\"data/records/yellow_tripdata_2020-01.csv\", header=True)\n",
    "taxi_record_2 = session.read.csv(\"data/records/yellow_tripdata_2020-02.csv\", header=True)\n",
    "taxi_record_3 = session.read.csv(\"data/records/yellow_tripdata_2020-03.csv\", header=True)\n",
    "taxi_record_4 = session.read.csv(\"data/records/yellow_tripdata_2020-04.csv\", header=True)\n",
    "taxi_record_5 = session.read.csv(\"data/records/yellow_tripdata_2020-05.csv\", header=True)\n",
    "taxi_record_6 = session.read.csv(\"data/records/yellow_tripdata_2020-06.csv\", header=True)\n",
    "taxi_record_7 = session.read.csv(\"data/records/yellow_tripdata_2020-07.csv\", header=True)\n",
    "taxi_record_8 = session.read.csv(\"data/records/yellow_tripdata_2020-08.csv\", header=True)\n",
    "taxi_record_9 = session.read.csv(\"data/records/yellow_tripdata_2020-09.csv\", header=True)\n",
    "taxi_record_10 = session.read.csv(\"data/records/yellow_tripdata_2020-10.csv\", header=True)\n",
    "taxi_record_11 = session.read.csv(\"data/records/yellow_tripdata_2020-11.csv\", header=True)\n",
    "taxi_record_12 = session.read.csv(\"data/records/yellow_tripdata_2020-12.csv\", header=True)\n",
    "location_df = session.read.csv(\"data/taxi+_zone_lookup.csv\", header=True)"
   ]
  },
  {
   "cell_type": "code",
   "execution_count": 4,
   "id": "ee7258f9",
   "metadata": {},
   "outputs": [],
   "source": [
    "dates = (\"2020-01-01\",  \"2020-01-07\")\n",
    "taxi_record_1 = taxi_record_1.where(F.col('tpep_pickup_datetime').between(*dates))\n",
    "dates = (\"2020-02-01\",  \"2020-02-07\")\n",
    "taxi_record_2 = taxi_record_2.where(F.col('tpep_pickup_datetime').between(*dates))\n",
    "dates = (\"2020-03-01\",  \"2020-03-07\")\n",
    "taxi_record_3 = taxi_record_3.where(F.col('tpep_pickup_datetime').between(*dates))\n",
    "dates = (\"2020-04-01\",  \"2020-04-07\")\n",
    "taxi_record_4 = taxi_record_4.where(F.col('tpep_pickup_datetime').between(*dates))\n",
    "dates = (\"2020-05-01\",  \"2020-05-07\")\n",
    "taxi_record_5 = taxi_record_5.where(F.col('tpep_pickup_datetime').between(*dates))\n",
    "dates = (\"2020-06-01\",  \"2020-06-07\")\n",
    "taxi_record_6 = taxi_record_6.where(F.col('tpep_pickup_datetime').between(*dates))\n",
    "dates = (\"2020-07-01\",  \"2020-07-07\")\n",
    "taxi_record_7 = taxi_record_7.where(F.col('tpep_pickup_datetime').between(*dates))\n",
    "dates = (\"2020-08-01\",  \"2020-08-07\")\n",
    "taxi_record_8 = taxi_record_8.where(F.col('tpep_pickup_datetime').between(*dates))\n",
    "dates = (\"2020-09-01\",  \"2020-09-07\")\n",
    "taxi_record_9 = taxi_record_9.where(F.col('tpep_pickup_datetime').between(*dates))\n",
    "dates = (\"2020-10-01\",  \"2020-10-07\")\n",
    "taxi_record_10 = taxi_record_10.where(F.col('tpep_pickup_datetime').between(*dates))\n",
    "dates = (\"2020-11-01\",  \"2020-11-07\")\n",
    "taxi_record_11 = taxi_record_11.where(F.col('tpep_pickup_datetime').between(*dates))\n",
    "dates = (\"2020-12-01\",  \"2020-12-07\")\n",
    "taxi_record_12 = taxi_record_12.where(F.col('tpep_pickup_datetime').between(*dates))"
   ]
  },
  {
   "cell_type": "code",
   "execution_count": 5,
   "id": "abdd7c8c",
   "metadata": {},
   "outputs": [],
   "source": [
    "taxi_record = (taxi_record_1.union(taxi_record_2).union(taxi_record_3)\n",
    "               .union(taxi_record_4).union(taxi_record_5).union(taxi_record_6)\n",
    "               .union(taxi_record_7).union(taxi_record_8).union(taxi_record_9)\n",
    "               .union(taxi_record_10).union(taxi_record_11).union(taxi_record_12)\n",
    "               .drop(\"VendorID\", \"RatecodeID\", \"payment_type\", \"store_and_fwd_flag\",\n",
    "                     \"improvement_surcharge\", \"mta_tax\", \"tolls_amount\", \"congestion_surcharge\")\n",
    "              )"
   ]
  },
  {
   "cell_type": "code",
   "execution_count": 6,
   "id": "457c7249",
   "metadata": {},
   "outputs": [
    {
     "data": {
      "text/plain": [
       "Row(tpep_pickup_datetime='2020-01-01 00:28:15', tpep_dropoff_datetime='2020-01-01 00:33:03', passenger_count='1', trip_distance='1.20', PULocationID='238', DOLocationID='239', fare_amount='6', extra='3', tip_amount='1.47', total_amount='11.27')"
      ]
     },
     "execution_count": 6,
     "metadata": {},
     "output_type": "execute_result"
    }
   ],
   "source": [
    "taxi_record.head()"
   ]
  },
  {
   "cell_type": "markdown",
   "id": "e8594a11",
   "metadata": {},
   "source": [
    "## Visualization"
   ]
  },
  {
   "cell_type": "markdown",
   "id": "030c8ed6",
   "metadata": {},
   "source": [
    "### Activities\n",
    "First thing we interested in taxi report dataset is activities. We want to see what is the time period that has most taxi pick up activities. Therefore, we decided to analyze activities per hour, day of week, and month."
   ]
  },
  {
   "cell_type": "code",
   "execution_count": 46,
   "id": "bc2d0016",
   "metadata": {},
   "outputs": [
    {
     "name": "stderr",
     "output_type": "stream",
     "text": [
      "                                                                                \r"
     ]
    }
   ],
   "source": [
    "hour_count = (taxi_record.select(F.hour('tpep_pickup_datetime').alias('hour'))\n",
    "                   .groupby('hour').count())\n",
    "dayOfWeek_count = (taxi_record.select(F.dayofweek('tpep_pickup_datetime').alias('weekOfDay'))\n",
    "                   .groupby('weekOfDay').count())\n",
    "month_count = (taxi_record.select(F.month('tpep_pickup_datetime').alias('month'))\n",
    "                   .groupby('month').count())\n",
    "\n",
    "df_hour = hour_count.toPandas()\n",
    "df_dayOfWeek = dayOfWeek_count.toPandas()\n",
    "df_month = month_count.toPandas()"
   ]
  },
  {
   "cell_type": "code",
   "execution_count": 81,
   "id": "fb889160",
   "metadata": {},
   "outputs": [
    {
     "data": {
      "image/png": "[encoded data removed]",
      "text/plain": [
       "<Figure size 1152x432 with 1 Axes>"
      ]
     },
     "metadata": {
      "needs_background": "light"
     },
     "output_type": "display_data"
    }
   ],
   "source": [
    "df_hour = df_hour.sort_values(by=['hour'])\n",
    "hour_counts = np.array(df_hour['count']).astype(int)\n",
    "hours = np.array(df_hour['hour'])\n",
    "plt.figure(figsize=(16,6))\n",
    "plt.barh(hours, hour_counts)\n",
    "plt.yticks(range(0, 24))\n",
    "plt.gca().invert_yaxis()\n",
    "plt.xlabel(\"Activities\")\n",
    "plt.ylabel(\"Hours\")\n",
    "plt.title(\"Activities vs Hours\")\n",
    "plt.show()"
   ]
  },
  {
   "cell_type": "markdown",
   "id": "6c846238",
   "metadata": {},
   "source": [
    "From the bar graph above, we can see that busy peroid for taxi is afternoon from 1pm to 7pm. In addition, time before dawn has fewer pick up activities."
   ]
  },
  {
   "cell_type": "code",
   "execution_count": 86,
   "id": "d4bdd639",
   "metadata": {},
   "outputs": [
    {
     "data": {
      "image/png": "[encoded data removed]",
      "text/plain": [
       "<Figure size 1152x432 with 2 Axes>"
      ]
     },
     "metadata": {
      "needs_background": "light"
     },
     "output_type": "display_data"
    }
   ],
   "source": [
    "df_month = df_month.sort_values(by=['month'])\n",
    "month_counts = np.array(df_month['count']).astype(int)\n",
    "months = np.array(df_month['month'])\n",
    "\n",
    "df_dayOfWeek = df_dayOfWeek.sort_values(by=['weekOfDay'])\n",
    "dow_counts = np.array(df_dayOfWeek['count']).astype(int)\n",
    "# weekOfDay 1=Sunday, 2=Monday...\n",
    "dow = ['Sunday', 'Monday', 'Tuesday', 'Wednesday', 'Thursday', 'Friday', 'Saturday']\n",
    "\n",
    "fig, axes = plt.subplots(1,2, figsize=(16,6))\n",
    "axes[0].bar(months, month_counts)\n",
    "axes[0].set_xticks(range(1, 13))\n",
    "axes[0].set_xlabel(\"Month\")\n",
    "axes[0].set_ylabel(\"Activities\")\n",
    "axes[0].set_title(\"Activities vs Month\")\n",
    "\n",
    "axes[1].bar(dow, dow_counts)\n",
    "axes[1].set_xlabel(\"Day Of Week\")\n",
    "axes[1].set_ylabel(\"Activities\")\n",
    "axes[1].set_title(\"Activities vs DayOfWeek\")\n",
    "plt.show()"
   ]
  },
  {
   "cell_type": "markdown",
   "id": "2d941428",
   "metadata": {},
   "source": [
    "From the Activities vs Month graph on left, we can see that there are lots of taxi activities from January to March. However, start from April, taxi activities count became extremely low. It is because of the lock down in NewYork due to the pandemic.\n",
    "\n",
    "From the the Activities vs Day of Week graph, we can know the most busy day is Thursday, and Saturday has least activities which make sense since Saturday is the first day of weekend, most people like to stay at home to have a rest in Saturday."
   ]
  },
  {
   "cell_type": "markdown",
   "id": "ff211cb0",
   "metadata": {},
   "source": [
    "### Trip Duration\n",
    "The other thing we want to analyze is trip duration (drop off time - pick up time). We worked on find the relationship between trip duration and pick up time (average duration vs hours)."
   ]
  },
  {
   "cell_type": "code",
   "execution_count": 101,
   "id": "41658b6e",
   "metadata": {},
   "outputs": [
    {
     "name": "stderr",
     "output_type": "stream",
     "text": [
      "                                                                                \r"
     ]
    }
   ],
   "source": [
    "taxi_record.select(F.col('tpep_dropoff_datetime'))\n",
    "recordWithDuration = taxi_record.withColumn('tpep_pickup_datetime', F.to_timestamp(F.col('tpep_pickup_datetime')))\\\n",
    "  .withColumn('tpep_dropoff_datetime', F.to_timestamp(F.col('tpep_dropoff_datetime')))\\\n",
    "  .withColumn('trip_duration',\n",
    "              F.col(\"tpep_dropoff_datetime\").cast(\"long\") - F.col('tpep_pickup_datetime').cast(\"long\"))\n",
    "recordWithDuration = recordWithDuration.select(F.hour('tpep_pickup_datetime').alias('pickup_hour'),\n",
    "                                               F.col('trip_distance'),\n",
    "                                               F.col('trip_duration'))\n",
    "df_tripDurationVSPickupTime = (recordWithDuration.groupby('pickup_hour')\n",
    "                               .avg('trip_duration')\n",
    "                               .sort(F.col('pickup_hour'))\n",
    "                               .toPandas())"
   ]
  },
  {
   "cell_type": "code",
   "execution_count": 113,
   "id": "9dd9c48f",
   "metadata": {},
   "outputs": [
    {
     "data": {
      "image/png": "[encoded data removed]",
      "text/plain": [
       "<Figure size 1152x432 with 1 Axes>"
      ]
     },
     "metadata": {
      "needs_background": "light"
     },
     "output_type": "display_data"
    }
   ],
   "source": [
    "trip_durations = np.array(df_tripDurationVSPickupTime['avg(trip_duration)'])/60\n",
    "hours = np.array(df_tripDurationVSPickupTime['pickup_hour'])\n",
    "plt.figure(figsize=(16,6))\n",
    "plt.plot(hours, trip_durations)\n",
    "plt.xticks(range(0, 24))\n",
    "plt.xlabel(\"Time\")\n",
    "plt.ylabel(\"Average Trip Duration(min)\")\n",
    "plt.title(\"Average Trip Duration vs Time\")\n",
    "plt.show()"
   ]
  },
  {
   "cell_type": "markdown",
   "id": "9bd787cc",
   "metadata": {},
   "source": [
    "### Location\n",
    "We also want to know which area is the best pick up location for taxi driver. So we have the heat map to see the amount of taxi pickup activities in NewYork city areas."
   ]
  },
  {
   "cell_type": "code",
   "execution_count": 87,
   "id": "03108d97",
   "metadata": {},
   "outputs": [],
   "source": [
    "# Write here"
   ]
  },
  {
   "cell_type": "markdown",
   "id": "6426c39e",
   "metadata": {},
   "source": [
    "### Profit\n",
    "For taxi drivers, of course the most important thing is money. We want to know the relation of fareamount and pickup location, and the relation of money and pickup time (tips/time, total_fare/time, extras/time). In addition, we also want to know whether short trips that cover a long distance or long one where one is tuck in traffic are more profitable. "
   ]
  },
  {
   "cell_type": "code",
   "execution_count": null,
   "id": "f8b87518",
   "metadata": {},
   "outputs": [],
   "source": []
  },
  {
   "cell_type": "markdown",
   "id": "e64c047e",
   "metadata": {},
   "source": [
    "## Machine Learning\n",
    "We can use Machine Learning to help taxi driver to predict the fare amout of next trip. In real life, taxi passengers alway like to ask the price right after they stating the destination location. Many drivers with more experience can quickly response a rough price. And this model can look through 5M trips to become a experienced taxi driver and make a prediction of the fare amount based on the pickup location and drop off location."
   ]
  },
  {
   "cell_type": "code",
   "execution_count": null,
   "id": "89c8ee08",
   "metadata": {},
   "outputs": [],
   "source": [
    "# data process in spark\n",
    "loc_price = taxi_record.select(F.col(\"PULocationID\").alias(\"PU\"),\n",
    "                   F.col(\"DOLocationID\").alias(\"DO\"),\n",
    "                   F.col(\"fare_amount\").alias(\"Price\"))\n",
    "# filter null value record and unknown record(locationID: 264 and 265 are unknown)\n",
    "loc_price = loc_price.filter(loc_price.PU.isNotNull() & loc_price.PU.between(1, 263)\n",
    "                             & loc_price.DO.isNotNull() & loc_price.DO.between(1, 263)\n",
    "                             & loc_price.Price.isNotNull())"
   ]
  },
  {
   "cell_type": "code",
   "execution_count": null,
   "id": "67d49359",
   "metadata": {},
   "outputs": [],
   "source": [
    "%%time\n",
    "# convert spark df to pandas df using parquet. Uncomment next line if need reload\n",
    "\n",
    "# loc_price.write.mode(\"overwrite\").parquet(\"loc_price.parquet\")\n",
    "\n",
    "# load into pandas df\n",
    "pd_df = pq.read_pandas('loc_price.parquet').to_pandas()"
   ]
  },
  {
   "cell_type": "code",
   "execution_count": null,
   "id": "5fb3fd48",
   "metadata": {},
   "outputs": [],
   "source": [
    "# data process in pandas df\n",
    "pickup = np.array(pd_df.PU).astype(float)\n",
    "dropoff = np.array(pd_df.DO).astype(float)\n",
    "\n",
    "location = np.vstack((pickup, dropoff)).T\n",
    "price = np.array(pd_df.Price).astype(float)\n",
    "# data split\n",
    "X_train, X_test, y_train, y_test = train_test_split(location, price, test_size=0.2)"
   ]
  },
  {
   "cell_type": "markdown",
   "id": "11d2c59b",
   "metadata": {},
   "source": [
    "##### Training model may takes 4 min, we also save the model as a file `trained_model.sav`. Therefore we can skip this cell and just run next cell to load the saved model."
   ]
  },
  {
   "cell_type": "code",
   "execution_count": null,
   "id": "64a246ac",
   "metadata": {},
   "outputs": [],
   "source": [
    "# %%time\n",
    "# # train the model\n",
    "# regr = MLPRegressor(random_state=1, max_iter=500).fit(X_train, y_train)\n",
    "\n",
    "# # save model to disk\n",
    "# filename = 'trained_model.sav'\n",
    "# joblib.dump(regr, filename)"
   ]
  },
  {
   "cell_type": "code",
   "execution_count": null,
   "id": "1fa4d47a",
   "metadata": {},
   "outputs": [],
   "source": [
    "filename = 'trained_model.sav'\n",
    "trained_model = joblib.load(filename)\n",
    "y_pred = trained_model.predict(X_test)"
   ]
  },
  {
   "cell_type": "code",
   "execution_count": null,
   "id": "3f85fcff",
   "metadata": {},
   "outputs": [],
   "source": [
    "def cal_accuracy(pred, actual):\n",
    "    count = 0;\n",
    "    for i in range(len(actual)):\n",
    "        if (abs(pred[i] - actual[i]) <= 7):\n",
    "            count = count + 1\n",
    "    accuracy = count/len(actual)\n",
    "    return accuracy\n",
    "print(\"price accuracy(accept +- 7 error) : %.2f\" %cal_accuracy(y_pred, y_test))\n",
    "print(\"Coefficient of determination: %.2f\" % r2_score(y_test, y_pred))\n",
    "print(\"Mean squared error: %.2f\" % mean_squared_error(y_test, y_pred))"
   ]
  },
  {
   "cell_type": "code",
   "execution_count": null,
   "id": "9fd20a9f",
   "metadata": {},
   "outputs": [],
   "source": [
    "def on_button_clicked(b):\n",
    "    with output:\n",
    "        output.clear_output()\n",
    "        price = trained_model.predict([[d1.value, d2.value]])\n",
    "        price_format = \"{:.5f}\".format(price[0])\n",
    "        print(f\"Predict Price = ${price_format}\")\n",
    "# dropdown options list\n",
    "loc_df = pd.read_csv(\"data/taxi+_zone_lookup.csv\")\n",
    "loc_dict = dict(zip(loc_df.LocationID, loc_df.Borough + \" \" + loc_df.Zone))\n",
    "loc_options = []\n",
    "for key, value in loc_dict.items():\n",
    "    loc_options.append((value, key))\n",
    "# remove two element unknown and nan\n",
    "_ = loc_options.pop()\n",
    "_ = loc_options.pop()        \n",
    "\n",
    "d1 = widgets.Dropdown(\n",
    "    options=loc_options,\n",
    "    value=1,\n",
    "    description='From:',\n",
    ")\n",
    "d2 = widgets.Dropdown(\n",
    "    options=loc_options,\n",
    "    value=1,\n",
    "    description='To:',\n",
    ")\n",
    "button = widgets.Button(description=\"Calculate\")\n",
    "button.on_click(on_button_clicked)\n",
    "\n",
    "output = widgets.Output()\n",
    "\n",
    "items = [d1, d2, button, output]\n",
    "box = widgets.Box(children=items)\n",
    "display(box)"
   ]
  },
  {
   "cell_type": "code",
   "execution_count": null,
   "id": "6a2dca00",
   "metadata": {},
   "outputs": [],
   "source": []
  }
 ],
 "metadata": {
  "kernelspec": {
   "display_name": "Python 3 (ipykernel)",
   "language": "python",
   "name": "python3"
  },
  "language_info": {
   "codemirror_mode": {
    "name": "ipython",
    "version": 3
   },
   "file_extension": ".py",
   "mimetype": "text/x-python",
   "name": "python",
   "nbconvert_exporter": "python",
   "pygments_lexer": "ipython3",
   "version": "3.9.7"
  }
 },
 "nbformat": 4,
 "nbformat_minor": 5
}
