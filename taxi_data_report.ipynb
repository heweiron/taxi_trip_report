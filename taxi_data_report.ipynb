{
 "cells": [
  {
   "cell_type": "markdown",
   "id": "02d60150",
   "metadata": {},
   "source": [
    "# Final Project\n",
    "### Team: Data Miner(Weirong He, Michael Gainey, Tri Pham)\n",
    "### Topic: Taxi Data Analysis"
   ]
  },
  {
   "cell_type": "code",
   "execution_count": 11,
   "id": "33b9260b",
   "metadata": {},
   "outputs": [],
   "source": [
    "from pyspark import SparkContext\n",
    "from pyspark.sql import SparkSession\n",
    "from pyspark.sql import functions as F\n",
    "import numpy as np"
   ]
  },
  {
   "cell_type": "code",
   "execution_count": 2,
   "id": "604bdc0f",
   "metadata": {},
   "outputs": [
    {
     "name": "stderr",
     "output_type": "stream",
     "text": [
      "WARNING: An illegal reflective access operation has occurred\n",
      "WARNING: Illegal reflective access by org.apache.spark.unsafe.Platform (file:/usr/local/spark-3.1.2-bin-hadoop3.2/jars/spark-unsafe_2.12-3.1.2.jar) to constructor java.nio.DirectByteBuffer(long,int)\n",
      "WARNING: Please consider reporting this to the maintainers of org.apache.spark.unsafe.Platform\n",
      "WARNING: Use --illegal-access=warn to enable warnings of further illegal reflective access operations\n",
      "WARNING: All illegal access operations will be denied in a future release\n",
      "21/11/16 03:56:42 WARN NativeCodeLoader: Unable to load native-hadoop library for your platform... using builtin-java classes where applicable\n",
      "Using Spark's default log4j profile: org/apache/spark/log4j-defaults.properties\n",
      "Setting default log level to \"WARN\".\n",
      "To adjust logging level use sc.setLogLevel(newLevel). For SparkR, use setLogLevel(newLevel).\n"
     ]
    }
   ],
   "source": [
    "sc = SparkContext()\n",
    "session = SparkSession(sc)"
   ]
  },
  {
   "cell_type": "markdown",
   "id": "c6095b4b",
   "metadata": {},
   "source": [
    "## Data Process\n",
    "Data set could be download at https://www1.nyc.gov/site/tlc/about/tlc-trip-record-data.page\n",
    "In this project, we are focusing on year 2020, so we have 12 month taxi data in 2020. However, this dataset is too large for this project, so we decide to only take data at the first week of each month which will lead to result of 5M records."
   ]
  },
  {
   "cell_type": "code",
   "execution_count": 3,
   "id": "e94f83ba",
   "metadata": {},
   "outputs": [],
   "source": [
    "taxi_record_1 = session.read.csv(\"data/records/yellow_tripdata_2020-01.csv\", header=True)\n",
    "taxi_record_2 = session.read.csv(\"data/records/yellow_tripdata_2020-02.csv\", header=True)\n",
    "taxi_record_3 = session.read.csv(\"data/records/yellow_tripdata_2020-03.csv\", header=True)\n",
    "taxi_record_4 = session.read.csv(\"data/records/yellow_tripdata_2020-04.csv\", header=True)\n",
    "taxi_record_5 = session.read.csv(\"data/records/yellow_tripdata_2020-05.csv\", header=True)\n",
    "taxi_record_6 = session.read.csv(\"data/records/yellow_tripdata_2020-06.csv\", header=True)\n",
    "taxi_record_7 = session.read.csv(\"data/records/yellow_tripdata_2020-07.csv\", header=True)\n",
    "taxi_record_8 = session.read.csv(\"data/records/yellow_tripdata_2020-08.csv\", header=True)\n",
    "taxi_record_9 = session.read.csv(\"data/records/yellow_tripdata_2020-09.csv\", header=True)\n",
    "taxi_record_10 = session.read.csv(\"data/records/yellow_tripdata_2020-10.csv\", header=True)\n",
    "taxi_record_11 = session.read.csv(\"data/records/yellow_tripdata_2020-11.csv\", header=True)\n",
    "taxi_record_12 = session.read.csv(\"data/records/yellow_tripdata_2020-12.csv\", header=True)\n",
    "location_df = session.read.csv(\"data/taxi+_zone_lookup.csv\", header=True)"
   ]
  },
  {
   "cell_type": "code",
   "execution_count": 34,
   "id": "e1649626",
   "metadata": {},
   "outputs": [],
   "source": [
    "dates = (\"2020-01-01\",  \"2020-01-07\")\n",
    "taxi_record_1 = taxi_record_1.where(F.col('tpep_pickup_datetime').between(*dates))\n",
    "dates = (\"2020-02-01\",  \"2020-02-07\")\n",
    "taxi_record_2 = taxi_record_2.where(F.col('tpep_pickup_datetime').between(*dates))\n",
    "dates = (\"2020-03-01\",  \"2020-03-07\")\n",
    "taxi_record_3 = taxi_record_3.where(F.col('tpep_pickup_datetime').between(*dates))\n",
    "dates = (\"2020-04-01\",  \"2020-04-07\")\n",
    "taxi_record_4 = taxi_record_4.where(F.col('tpep_pickup_datetime').between(*dates))\n",
    "dates = (\"2020-05-01\",  \"2020-05-07\")\n",
    "taxi_record_5 = taxi_record_5.where(F.col('tpep_pickup_datetime').between(*dates))\n",
    "dates = (\"2020-06-01\",  \"2020-06-07\")\n",
    "taxi_record_6 = taxi_record_6.where(F.col('tpep_pickup_datetime').between(*dates))\n",
    "dates = (\"2020-07-01\",  \"2020-07-07\")\n",
    "taxi_record_7 = taxi_record_7.where(F.col('tpep_pickup_datetime').between(*dates))\n",
    "dates = (\"2020-08-01\",  \"2020-08-07\")\n",
    "taxi_record_8 = taxi_record_8.where(F.col('tpep_pickup_datetime').between(*dates))\n",
    "dates = (\"2020-09-01\",  \"2020-09-07\")\n",
    "taxi_record_9 = taxi_record_9.where(F.col('tpep_pickup_datetime').between(*dates))\n",
    "dates = (\"2020-10-01\",  \"2020-10-07\")\n",
    "taxi_record_10 = taxi_record_10.where(F.col('tpep_pickup_datetime').between(*dates))\n",
    "dates = (\"2020-11-01\",  \"2020-11-07\")\n",
    "taxi_record_11 = taxi_record_11.where(F.col('tpep_pickup_datetime').between(*dates))\n",
    "dates = (\"2020-12-01\",  \"2020-12-07\")\n",
    "taxi_record_12 = taxi_record_12.where(F.col('tpep_pickup_datetime').between(*dates))"
   ]
  },
  {
   "cell_type": "code",
   "execution_count": 37,
   "id": "abdd7c8c",
   "metadata": {},
   "outputs": [],
   "source": [
    "taxi_record = (taxi_record_1.union(taxi_record_2).union(taxi_record_3)\n",
    " .union(taxi_record_4).union(taxi_record_5).union(taxi_record_6)\n",
    " .union(taxi_record_7).union(taxi_record_8).union(taxi_record_9)\n",
    " .union(taxi_record_10).union(taxi_record_11).union(taxi_record_12))\n"
   ]
  },
  {
   "cell_type": "code",
   "execution_count": 44,
   "id": "457c7249",
   "metadata": {},
   "outputs": [
    {
     "name": "stdout",
     "output_type": "stream",
     "text": [
      "+--------+--------------------+---------------------+---------------+-------------+----------+------------------+------------+------------+------------+-----------+-----+-------+----------+------------+---------------------+------------+--------------------+\n",
      "|VendorID|tpep_pickup_datetime|tpep_dropoff_datetime|passenger_count|trip_distance|RatecodeID|store_and_fwd_flag|PULocationID|DOLocationID|payment_type|fare_amount|extra|mta_tax|tip_amount|tolls_amount|improvement_surcharge|total_amount|congestion_surcharge|\n",
      "+--------+--------------------+---------------------+---------------+-------------+----------+------------------+------------+------------+------------+-----------+-----+-------+----------+------------+---------------------+------------+--------------------+\n",
      "|       1| 2020-01-01 00:28:15|  2020-01-01 00:33:03|              1|         1.20|         1|                 N|         238|         239|           1|          6|    3|    0.5|      1.47|           0|                  0.3|       11.27|                 2.5|\n",
      "|       1| 2020-01-01 00:35:39|  2020-01-01 00:43:04|              1|         1.20|         1|                 N|         239|         238|           1|          7|    3|    0.5|       1.5|           0|                  0.3|        12.3|                 2.5|\n",
      "|       1| 2020-01-01 00:47:41|  2020-01-01 00:53:52|              1|          .60|         1|                 N|         238|         238|           1|          6|    3|    0.5|         1|           0|                  0.3|        10.8|                 2.5|\n",
      "|       1| 2020-01-01 00:55:23|  2020-01-01 01:00:14|              1|          .80|         1|                 N|         238|         151|           1|        5.5|  0.5|    0.5|      1.36|           0|                  0.3|        8.16|                   0|\n",
      "|       2| 2020-01-01 00:01:58|  2020-01-01 00:04:16|              1|          .00|         1|                 N|         193|         193|           2|        3.5|  0.5|    0.5|         0|           0|                  0.3|         4.8|                   0|\n",
      "|       2| 2020-01-01 00:09:44|  2020-01-01 00:10:37|              1|          .03|         1|                 N|           7|         193|           2|        2.5|  0.5|    0.5|         0|           0|                  0.3|         3.8|                   0|\n",
      "|       2| 2020-01-01 00:39:25|  2020-01-01 00:39:29|              1|          .00|         1|                 N|         193|         193|           1|        2.5|  0.5|    0.5|      0.01|           0|                  0.3|        3.81|                   0|\n",
      "|       1| 2020-01-01 00:29:01|  2020-01-01 00:40:28|              2|          .70|         1|                 N|         246|          48|           1|          8|    3|    0.5|      2.35|           0|                  0.3|       14.15|                 2.5|\n",
      "|       1| 2020-01-01 00:55:11|  2020-01-01 01:12:03|              2|         2.40|         1|                 N|         246|          79|           1|         12|    3|    0.5|      1.75|           0|                  0.3|       17.55|                 2.5|\n",
      "|       1| 2020-01-01 00:37:15|  2020-01-01 00:51:41|              1|          .80|         1|                 N|         163|         161|           2|        9.5|    3|    0.5|         0|           0|                  0.3|        13.3|                 2.5|\n",
      "|       1| 2020-01-01 00:56:27|  2020-01-01 01:21:44|              1|         3.30|         1|                 N|         161|         144|           1|         17|    3|    0.5|      4.15|           0|                  0.3|       24.95|                 2.5|\n",
      "|       2| 2020-01-01 00:21:54|  2020-01-01 00:27:31|              1|         1.07|         1|                 N|          43|         239|           1|          6|  0.5|    0.5|      1.96|           0|                  0.3|       11.76|                 2.5|\n",
      "|       2| 2020-01-01 00:38:01|  2020-01-01 01:15:21|              1|         7.76|         1|                 N|         143|          25|           1|       28.5|  0.5|    0.5|      4.84|           0|                  0.3|       37.14|                 2.5|\n",
      "|       1| 2020-01-01 00:15:35|  2020-01-01 00:27:06|              3|         1.60|         1|                 N|         211|         234|           2|          9|    3|    0.5|         0|           0|                  0.3|        12.8|                 2.5|\n",
      "|       1| 2020-01-01 00:41:20|  2020-01-01 00:44:22|              1|          .50|         1|                 Y|         234|          90|           1|          4|    3|    0.5|         1|           0|                  0.3|         8.8|                 2.5|\n",
      "|       1| 2020-01-01 00:56:38|  2020-01-01 01:13:34|              1|         1.70|         1|                 N|         246|         142|           2|       11.5|    3|    0.5|         0|           0|                  0.3|        15.3|                 2.5|\n",
      "|       2| 2020-01-01 00:08:21|  2020-01-01 00:25:29|              1|         8.45|         1|                 N|         138|         216|           2|       24.5|  0.5|    0.5|         0|           0|                  0.3|        25.8|                   0|\n",
      "|       1| 2020-01-01 00:25:39|  2020-01-01 00:27:05|              1|          .00|         1|                 N|         170|         162|           4|          3|    3|    0.5|         0|           0|                  0.3|         6.8|                 2.5|\n",
      "|       1| 2020-01-01 00:28:53|  2020-01-01 00:41:59|              1|         1.50|         1|                 N|         170|         161|           1|        9.5|    3|    0.5|      2.65|           0|                  0.3|       15.95|                 2.5|\n",
      "|       1| 2020-01-01 00:49:00|  2020-01-01 01:17:42|              1|         2.90|         1|                 N|         161|         262|           1|         19|    3|    0.5|      4.55|           0|                  0.3|       27.35|                 2.5|\n",
      "+--------+--------------------+---------------------+---------------+-------------+----------+------------------+------------+------------+------------+-----------+-----+-------+----------+------------+---------------------+------------+--------------------+\n",
      "only showing top 20 rows\n",
      "\n"
     ]
    }
   ],
   "source": [
    "taxi_record.show()"
   ]
  },
  {
   "cell_type": "code",
   "execution_count": null,
   "id": "d785d8fc",
   "metadata": {},
   "outputs": [],
   "source": []
  }
 ],
 "metadata": {
  "kernelspec": {
   "display_name": "Python 3 (ipykernel)",
   "language": "python",
   "name": "python3"
  },
  "language_info": {
   "codemirror_mode": {
    "name": "ipython",
    "version": 3
   },
   "file_extension": ".py",
   "mimetype": "text/x-python",
   "name": "python",
   "nbconvert_exporter": "python",
   "pygments_lexer": "ipython3",
   "version": "3.9.7"
  }
 },
 "nbformat": 4,
 "nbformat_minor": 5
}
